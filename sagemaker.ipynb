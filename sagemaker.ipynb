{
 "cells": [
  {
   "cell_type": "markdown",
   "metadata": {},
   "source": [
    "INSTALLING STABLE DIFFUSION\n"
   ]
  },
  {
   "cell_type": "code",
   "execution_count": null,
   "metadata": {},
   "outputs": [],
   "source": [
    "!mkdir /home/studio-lab-user/content\n",
    "%cd /home/studio-lab-user/content\n",
    "\n",
    "%env TF_CPP_MIN_LOG_LEVEL=1\n",
    "\n",
    "%conda install -q -y aria2\n",
    "%conda install -q -y libglib2.0-0\n",
    "%conda install -q -y glib\n",
    "%pip install -q opencv-python-headless huggingface-hub  \n",
    "%pip install -q torch==1.13.1+cu116 torchvision==0.14.1+cu116 torchaudio==0.13.1 torchtext==0.14.1 torchdata==0.5.1 --extra-index-url https://download.pytorch.org/whl/cu116 -U\n",
    "%pip install -q xformers==0.0.16 triton==2.0.0 -U\n",
    "%pip install torchmetrics==0.11.4\n",
    "%pip install --upgrade fastapi==0.90\n",
    "\n",
    "!git clone https://github.com/camenduru/stable-diffusion-webui\n",
    " \n",
    "!git clone https://huggingface.co/embed/negative /home/studio-lab-user/content/stable-diffusion-webui/embeddings/negative\n",
    "!git clone https://huggingface.co/embed/lora /home/studio-lab-user/content/stable-diffusion-webui/models/Lora/positive\n",
    "!aria2c --console-log-level=error -c -x 16 -s 16 -k 1M https://huggingface.co/embed/upscale/resolve/main/4x-UltraSharp.pth -d /home/studio-lab-user/content/stable-diffusion-webui/models/ESRGAN -o 4x-UltraSharp.pth\n",
    "!wget https://raw.githubusercontent.com/camenduru/stable-diffusion-webui-scripts/main/run_n_times.py -O /home/studio-lab-user/content/stable-diffusion-webui/scripts/run_n_times.py\n",
    "!git clone https://github.com/camenduru/stable-diffusion-webui-images-browser /home/studio-lab-user/content/stable-diffusion-webui/extensions/stable-diffusion-webui-images-browser\n",
    "!git clone https://github.com/camenduru/stable-diffusion-webui-huggingface /home/studio-lab-user/content/stable-diffusion-webui/extensions/stable-diffusion-webui-huggingface\n",
    "!git clone https://github.com/camenduru/sd-civitai-browser /home/studio-lab-user/content/stable-diffusion-webui/extensions/sd-civitai-browser\n",
    "!git clone https://github.com/camenduru/sd-webui-additional-networks /home/studio-lab-user/content/stable-diffusion-webui/extensions/sd-webui-additional-networks\n",
    "!git clone https://github.com/camenduru/batchlinks-webui /home/studio-lab-user/content/stable-diffusion-webui/extensions/batchlinks-webui\n",
    "!git clone https://github.com/camenduru/stable-diffusion-webui-catppuccin /home/studio-lab-user/content/stable-diffusion-webui/extensions/stable-diffusion-webui-catppuccin\n",
    "!git clone https://github.com/camenduru/a1111-sd-webui-locon /home/studio-lab-user/content/stable-diffusion-webui/extensions/a1111-sd-webui-locon\n",
    "!git clone https://github.com/Mikubill/sd-webui-controlnet /home/studio-lab-user/content/stable-diffusion-webui/extensions/sd-webui-controlnet\n",
    "!git clone https://github.com/camenduru/stable-diffusion-webui-rembg /home/studio-lab-user/content/stable-diffusion-webui/extensions/stable-diffusion-webui-rembg\n",
    "!git clone https://github.com/camenduru/stable-diffusion-webui-two-shot /home/studio-lab-user/content/stable-diffusion-webui/extensions/stable-diffusion-webui-two-shot\n",
    "\n",
    "%cd /home/studio-lab-user/content/stable-diffusion-webui\n",
    "!git reset --hard\n",
    "!git -C /home/studio-lab-user/content/stable-diffusion-webui/repositories/stable-diffusion-stability-ai reset --hard\n",
    "\n",
    "!wget https://civitai.com/api/download/models/119057 -O /home/studio-user-lab/content/stable-diffusion-webui/content/stable-diffusion-webui/models/Stable-diffusion\n",
    "\n",
    "\n",
    "\n",
    "!sed -i -e '''/  import os  prepare_environment()/a\\    os.system\\(f\\\"\"\"sed -i -e ''\\\"s/dict()))/dict())).cuda()/g\\\"'' /home/studio-lab-user/content/stable-diffusion-webui/repositories/stable-diffusion-stability-ai/ldm/util.py\"\"\")''' /home/studio-lab-user/content/stable-diffusion-webui/launch.py\n",
    "!sed -i -e 's/\\\"sd_model_checkpoint\\\"\\,/\\\"sd_model_checkpoint\\,sd_vae\\,CLIP_stop_at_last_layers\\\"\\,/g' /home/studio-lab-user/content/stable-diffusion-webui/modules/shared.py\n",
    "\n",
    "!python launch.py --listen --xformers --enable-insecure-extension-access --theme dark --gradio-queue --ngrok NGROK_TOKEN"
   ]
  },
  {
   "cell_type": "markdown",
   "metadata": {},
   "source": [
    "REMOVE ALL DATA IN SAGE MAKER"
   ]
  },
  {
   "cell_type": "code",
   "execution_count": null,
   "metadata": {},
   "outputs": [],
   "source": [
    "!rm -rf /home/studio-lab-user/sagemaker-studiolab-notebooks\n",
    "%cd /home/studio-lab-user/\n",
    "!mkdir sagemaker-studiolab-notebooks\n",
    "%cd /home/studio-lab-user/sagemaker-studiolab-notebooks"
   ]
  },
  {
   "cell_type": "markdown",
   "metadata": {},
   "source": [
    "CHECK USAGE STORAGE"
   ]
  },
  {
   "cell_type": "code",
   "execution_count": null,
   "metadata": {},
   "outputs": [],
   "source": [
    "!df -h | grep -E 'Avail|home'"
   ]
  }
 ],
 "metadata": {
  "kernelspec": {
   "display_name": "Python 3",
   "language": "python",
   "name": "python3"
  },
  "language_info": {
   "name": "python",
   "version": "3.11.6"
  }
 },
 "nbformat": 4,
 "nbformat_minor": 2
}
